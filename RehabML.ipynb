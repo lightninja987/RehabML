{
 "cells": [
  {
   "cell_type": "markdown",
   "metadata": {},
   "source": [
    "# RehabML - A Machine Learning Approach to Find Socio-Economic Factors That Lead to Drug Rehab Patients Leaving Treatment Prematurely"
   ]
  },
  {
   "cell_type": "markdown",
   "metadata": {},
   "source": [
    "This project focuses on creating some sort of prediction algorithm that can identify at-risk drug rehabilitation patients who will leave the program before they are healed. The dataset is from the Substance Abuse and Mental Health data archive and it has the discharge of every publicly funded rehab center in the United States. It can be downloaded (stata version is what I used and then converted to a csv file) on this website: https://www.datafiles.samhsa.gov/study-dataset/teds-d-2017-ds0001-teds-d-2017-ds0001-nid18480"
   ]
  },
  {
   "cell_type": "code",
   "execution_count": 51,
   "metadata": {},
   "outputs": [],
   "source": [
    "import pandas as pd\n",
    "import numpy as np\n",
    "from sklearn.model_selection import train_test_split\n",
    "from sklearn.feature_selection import RFE\n",
    "from sklearn.linear_model import LogisticRegression\n",
    "from sklearn import metrics\n",
    "from sklearn.metrics import roc_auc_score\n",
    "from sklearn.metrics import roc_curve\n",
    "import matplotlib.pyplot as plt\n",
    "\n",
    "#imports necessary modules for data collection and classification"
   ]
  },
  {
   "cell_type": "code",
   "execution_count": 2,
   "metadata": {},
   "outputs": [],
   "source": [
    "df = pd.read_csv('drug_users.csv') #reads csv file into pandas dataframe"
   ]
  },
  {
   "cell_type": "markdown",
   "metadata": {},
   "source": [
    "Specifically, I am looking at the REASON column in which there are 7 numbers (1-7) which keep track of the nature the patient discharged. The number 2 represents the patient dropping out early voluntarily without being fully healed. Other reasons are listed on page 37 of http://samhda.s3-us-gov-west-1.amazonaws.com/s3fs-public/field-uploads-protected/studies/TEDS-D-2017/TEDS-D-2017-datasets/TEDS-D-2017-DS0001/TEDS-D-2017-DS0001-info/TEDS-D-2017-DS0001-info-codebook.pdf\n",
    "\n",
    "Specifically for this project, I will define reason 2 as voluntarily leaving and the others as not voluntarily leaving."
   ]
  },
  {
   "cell_type": "code",
   "execution_count": 3,
   "metadata": {},
   "outputs": [
    {
     "data": {
      "text/plain": [
       "1.0    679850\n",
       "2.0    425444\n",
       "4.0    363591\n",
       "3.0     99319\n",
       "7.0     59565\n",
       "5.0     29650\n",
       "6.0      3788\n",
       "Name: REASON, dtype: int64"
      ]
     },
     "execution_count": 3,
     "metadata": {},
     "output_type": "execute_result"
    }
   ],
   "source": [
    "df['REASON'].value_counts()"
   ]
  },
  {
   "cell_type": "markdown",
   "metadata": {},
   "source": [
    "We can see the counts of the values of REASONS. Since we are only focused on reason 2 versus everyone else, it makes sense to make this a binary classification problem, with 1,3,4,5,6,7 being 0 and 2 being 1. The code below does just that."
   ]
  },
  {
   "cell_type": "code",
   "execution_count": 5,
   "metadata": {},
   "outputs": [
    {
     "data": {
      "text/plain": [
       "0.0    1235763\n",
       "1.0     425444\n",
       "Name: REASON, dtype: int64"
      ]
     },
     "execution_count": 5,
     "metadata": {},
     "output_type": "execute_result"
    }
   ],
   "source": [
    "for i in range(7):\n",
    "    if i != 1:\n",
    "        df['REASON'] = np.where(df['REASON'].astype(int) == i + 1, 0, df['REASON'])\n",
    "        \n",
    "df['REASON'] = np.where(df['REASON'].astype(int) == 2, 1, df['REASON'])\n",
    "        \n",
    "df['REASON'].value_counts() #should only have two value counts"
   ]
  },
  {
   "cell_type": "markdown",
   "metadata": {},
   "source": [
    "The data is clearly imbalanced, so we will implement a SMOTE algorithm(Synthetic Minority Oversampling Technique)."
   ]
  },
  {
   "cell_type": "code",
   "execution_count": 10,
   "metadata": {},
   "outputs": [
    {
     "name": "stdout",
     "output_type": "stream",
     "text": [
      "Requirement already satisfied: imbalanced-learn in c:\\users\\rohan\\anaconda4\\lib\\site-packages (0.5.0)\n",
      "Requirement already satisfied: numpy>=1.11 in c:\\users\\rohan\\anaconda4\\lib\\site-packages (from imbalanced-learn) (1.15.4)\n",
      "Requirement already satisfied: scipy>=0.17 in c:\\users\\rohan\\anaconda4\\lib\\site-packages (from imbalanced-learn) (1.1.0)\n",
      "Requirement already satisfied: scikit-learn>=0.21 in c:\\users\\rohan\\anaconda4\\lib\\site-packages (from imbalanced-learn) (0.23.1)\n",
      "Requirement already satisfied: joblib>=0.11 in c:\\users\\rohan\\anaconda4\\lib\\site-packages (from imbalanced-learn) (0.16.0)\n",
      "Requirement already satisfied: threadpoolctl>=2.0.0 in c:\\users\\rohan\\anaconda4\\lib\\site-packages (from scikit-learn>=0.21->imbalanced-learn) (2.1.0)\n"
     ]
    }
   ],
   "source": [
    "! pip install imbalanced-learn --user"
   ]
  },
  {
   "cell_type": "code",
   "execution_count": 11,
   "metadata": {},
   "outputs": [],
   "source": [
    "from imblearn.over_sampling import SMOTE"
   ]
  },
  {
   "cell_type": "code",
   "execution_count": 18,
   "metadata": {},
   "outputs": [
    {
     "name": "stdout",
     "output_type": "stream",
     "text": [
      "length of oversampled data is  1730230\n",
      "Number of not voluntarily leaving in oversampled data 865115\n",
      "Number of voluntarily leaving 865115\n",
      "Proportion of not voluntarily leaving in oversampled data is  0.5\n",
      "Proportion of voluntarily leaving in oversampled data is  0.5\n"
     ]
    }
   ],
   "source": [
    "X = df.loc[:, df.columns != 'REASON']\n",
    "y = df.loc[:, df.columns == 'REASON']\n",
    "\n",
    "os = SMOTE(random_state=0)\n",
    "X_train, X_test, y_train, y_test = train_test_split(X, y, test_size=0.3, random_state=0) #splits data set into testing and training\n",
    "columns = X_train.columns\n",
    "\n",
    "os_data_X,os_data_y=os.fit_sample(X_train, y_train.values.ravel())\n",
    "os_data_X = pd.DataFrame(data=os_data_X,columns=columns )\n",
    "os_data_y= pd.DataFrame(data=os_data_y,columns=['y'])\n",
    "# we can Check the numbers of our data\n",
    "print(\"length of oversampled data is \",len(os_data_X))\n",
    "print(\"Number of not voluntarily leaving in oversampled data\",len(os_data_y[os_data_y['y']==0]))\n",
    "print(\"Number of voluntarily leaving\",len(os_data_y[os_data_y['y']==1]))\n",
    "print(\"Proportion of not voluntarily leaving in oversampled data is \",len(os_data_y[os_data_y['y']==0])/len(os_data_X))\n",
    "print(\"Proportion of voluntarily leaving in oversampled data is \",len(os_data_y[os_data_y['y']==1])/len(os_data_X))"
   ]
  },
  {
   "cell_type": "markdown",
   "metadata": {},
   "source": [
    "To find the features that is best performing, I am going to use Recursive Feature Elimination (RFE), which repeatedly constructs a model to find high performing features and sets them aside."
   ]
  },
  {
   "cell_type": "code",
   "execution_count": 31,
   "metadata": {},
   "outputs": [
    {
     "name": "stdout",
     "output_type": "stream",
     "text": [
      "Column: 0, Selected True, Rank: 1.000\n",
      "Column: 1, Selected False, Rank: 37.000\n",
      "Column: 2, Selected True, Rank: 1.000\n",
      "Column: 3, Selected True, Rank: 1.000\n",
      "Column: 4, Selected True, Rank: 1.000\n",
      "Column: 5, Selected True, Rank: 1.000\n",
      "Column: 6, Selected False, Rank: 17.000\n",
      "Column: 7, Selected True, Rank: 1.000\n",
      "Column: 8, Selected True, Rank: 1.000\n",
      "Column: 9, Selected True, Rank: 1.000\n",
      "Column: 10, Selected True, Rank: 1.000\n",
      "Column: 11, Selected True, Rank: 1.000\n",
      "Column: 12, Selected True, Rank: 1.000\n",
      "Column: 13, Selected False, Rank: 4.000\n",
      "Column: 14, Selected True, Rank: 1.000\n",
      "Column: 15, Selected True, Rank: 1.000\n",
      "Column: 16, Selected True, Rank: 1.000\n",
      "Column: 17, Selected False, Rank: 18.000\n",
      "Column: 18, Selected False, Rank: 11.000\n",
      "Column: 19, Selected False, Rank: 8.000\n",
      "Column: 20, Selected True, Rank: 1.000\n",
      "Column: 21, Selected True, Rank: 1.000\n",
      "Column: 22, Selected True, Rank: 1.000\n",
      "Column: 23, Selected True, Rank: 1.000\n",
      "Column: 24, Selected True, Rank: 1.000\n",
      "Column: 25, Selected True, Rank: 1.000\n",
      "Column: 26, Selected True, Rank: 1.000\n",
      "Column: 27, Selected False, Rank: 6.000\n",
      "Column: 28, Selected False, Rank: 7.000\n",
      "Column: 29, Selected True, Rank: 1.000\n",
      "Column: 30, Selected True, Rank: 1.000\n",
      "Column: 31, Selected True, Rank: 1.000\n",
      "Column: 32, Selected False, Rank: 19.000\n",
      "Column: 33, Selected False, Rank: 3.000\n",
      "Column: 34, Selected False, Rank: 24.000\n",
      "Column: 35, Selected True, Rank: 1.000\n",
      "Column: 36, Selected True, Rank: 1.000\n",
      "Column: 37, Selected True, Rank: 1.000\n",
      "Column: 38, Selected False, Rank: 9.000\n",
      "Column: 39, Selected True, Rank: 1.000\n",
      "Column: 40, Selected False, Rank: 2.000\n",
      "Column: 41, Selected False, Rank: 5.000\n",
      "Column: 42, Selected True, Rank: 1.000\n",
      "Column: 43, Selected False, Rank: 12.000\n",
      "Column: 44, Selected True, Rank: 1.000\n",
      "Column: 45, Selected True, Rank: 1.000\n",
      "Column: 46, Selected True, Rank: 1.000\n",
      "Column: 47, Selected False, Rank: 21.000\n",
      "Column: 48, Selected True, Rank: 1.000\n",
      "Column: 49, Selected True, Rank: 1.000\n",
      "Column: 50, Selected True, Rank: 1.000\n",
      "Column: 51, Selected True, Rank: 1.000\n",
      "Column: 52, Selected False, Rank: 15.000\n",
      "Column: 53, Selected True, Rank: 1.000\n",
      "Column: 54, Selected False, Rank: 10.000\n",
      "Column: 55, Selected False, Rank: 20.000\n",
      "Column: 56, Selected False, Rank: 16.000\n",
      "Column: 57, Selected False, Rank: 14.000\n",
      "Column: 58, Selected False, Rank: 26.000\n",
      "Column: 59, Selected False, Rank: 25.000\n",
      "Column: 60, Selected False, Rank: 29.000\n",
      "Column: 61, Selected False, Rank: 32.000\n",
      "Column: 62, Selected False, Rank: 27.000\n",
      "Column: 63, Selected False, Rank: 30.000\n",
      "Column: 64, Selected False, Rank: 31.000\n",
      "Column: 65, Selected False, Rank: 23.000\n",
      "Column: 66, Selected False, Rank: 35.000\n",
      "Column: 67, Selected False, Rank: 28.000\n",
      "Column: 68, Selected False, Rank: 36.000\n",
      "Column: 69, Selected False, Rank: 34.000\n",
      "Column: 70, Selected False, Rank: 33.000\n",
      "Column: 71, Selected False, Rank: 22.000\n",
      "Column: 72, Selected True, Rank: 1.000\n",
      "Column: 73, Selected True, Rank: 1.000\n",
      "Column: 74, Selected True, Rank: 1.000\n",
      "Column: 75, Selected False, Rank: 13.000\n",
      "['Unnamed: 0', 'CASEID', 'STFIPS', 'CBSA2010', 'EDUC', 'SERVICES', 'DETCRIM', 'LOS', 'PSOURCE', 'NOPRIOR', 'ARRESTS', 'METHUSE', 'PSYPROB', 'PREG', 'DAYWAIT', 'SERVICES_D', 'EMPLOY_D', 'LIVARAG_D', 'ARRESTS_D', 'DSMCRIT', 'ETHNIC', 'DETNLF', 'DETNLF_D', 'SUB3', 'SUB1_D', 'SUB2_D', 'ROUTE1', 'FREQ1', 'FREQ3', 'FREQ1_D', 'FREQ2_D', 'FRSTUSE1', 'FRSTUSE2', 'FRSTUSE3', 'HLTHINS', 'FREQ_ATND_SELF_HELP', 'OTHERFLG', 'DIVISION', 'REGION']\n"
     ]
    }
   ],
   "source": [
    "df_vars=df.columns.values.tolist()\n",
    "\n",
    "logreg = LogisticRegression(solver = 'lbfgs') #make sure to put solver or else there will be a plethora of warning messages\n",
    "rfe = RFE(logreg, 40)\n",
    "rfe = rfe.fit(os_data_X, os_data_y.values.ravel())\n",
    "#print(rfe.support_)\n",
    "#print(rfe.ranking_)\n",
    "factors = list(df.columns)\n",
    "relevant = list()\n",
    "for i in range(len(df_vars)-1):\n",
    "    print('Column: %d, Selected %s, Rank: %.3f' % (i, rfe.support_[i], rfe.ranking_[i]))\n",
    "    if rfe.support_[i] and factors[i] != \"REASON\":\n",
    "        relevant.append(factors[i])\n",
    "        \n",
    "print(relevant)"
   ]
  },
  {
   "cell_type": "markdown",
   "metadata": {},
   "source": [
    "We can make a valid assumption that unnamed and caseid don't affect drug rehab patients at all, so we can ignore those. Otherwise,"
   ]
  },
  {
   "cell_type": "code",
   "execution_count": 32,
   "metadata": {},
   "outputs": [
    {
     "name": "stdout",
     "output_type": "stream",
     "text": [
      "Number of selected factors: 37\n",
      "Selected factors: ['STFIPS', 'CBSA2010', 'EDUC', 'SERVICES', 'DETCRIM', 'LOS', 'PSOURCE', 'NOPRIOR', 'ARRESTS', 'METHUSE', 'PSYPROB', 'PREG', 'DAYWAIT', 'SERVICES_D', 'EMPLOY_D', 'LIVARAG_D', 'ARRESTS_D', 'DSMCRIT', 'ETHNIC', 'DETNLF', 'DETNLF_D', 'SUB3', 'SUB1_D', 'SUB2_D', 'ROUTE1', 'FREQ1', 'FREQ3', 'FREQ1_D', 'FREQ2_D', 'FRSTUSE1', 'FRSTUSE2', 'FRSTUSE3', 'HLTHINS', 'FREQ_ATND_SELF_HELP', 'OTHERFLG', 'DIVISION', 'REGION']\n"
     ]
    }
   ],
   "source": [
    "print(\"Number of selected factors:\", len(relevant) - 2)\n",
    "print(\"Selected factors:\", relevant[2:])"
   ]
  },
  {
   "cell_type": "markdown",
   "metadata": {},
   "source": [
    "There RFE helped us selected the following features: ['STFIPS', 'CBSA2010', 'EDUC', 'SERVICES', 'DETCRIM', 'LOS', 'PSOURCE', 'NOPRIOR', 'ARRESTS', 'METHUSE', 'PSYPROB', 'PREG', 'DAYWAIT', 'SERVICES_D', 'EMPLOY_D', 'LIVARAG_D', 'ARRESTS_D', 'DSMCRIT', 'ETHNIC', 'DETNLF', 'DETNLF_D', 'SUB3', 'SUB1_D', 'SUB2_D', 'ROUTE1', 'FREQ1', 'FREQ3', 'FREQ1_D', 'FREQ2_D', 'FRSTUSE1', 'FRSTUSE2', 'FRSTUSE3', 'HLTHINS', 'FREQ_ATND_SELF_HELP', 'OTHERFLG', 'DIVISION', 'REGION']"
   ]
  },
  {
   "cell_type": "code",
   "execution_count": 40,
   "metadata": {},
   "outputs": [],
   "source": [
    "cols = ['STFIPS', 'CBSA2010', 'EDUC', 'SERVICES', 'DETCRIM', 'LOS', 'PSOURCE', 'NOPRIOR', 'ARRESTS', 'METHUSE', 'PSYPROB', 'PREG', 'DAYWAIT', 'SERVICES_D', 'EMPLOY_D', 'LIVARAG_D', 'ARRESTS_D', 'DSMCRIT', 'ETHNIC', 'DETNLF', 'DETNLF_D', 'SUB3', 'SUB1_D', 'SUB2_D', 'ROUTE1', 'FREQ1', 'FREQ3', 'FREQ1_D', 'FREQ2_D', 'FRSTUSE1', 'FRSTUSE2', 'FRSTUSE3', 'HLTHINS', 'FREQ_ATND_SELF_HELP', 'OTHERFLG', 'DIVISION', 'REGION']\n",
    "X = os_data_X[cols]\n",
    "y = os_data_y['y']"
   ]
  },
  {
   "cell_type": "markdown",
   "metadata": {},
   "source": [
    "Since I want to get the statistics of the classification, I need to get the statsmodels module."
   ]
  },
  {
   "cell_type": "code",
   "execution_count": 36,
   "metadata": {},
   "outputs": [
    {
     "name": "stdout",
     "output_type": "stream",
     "text": [
      "Requirement already satisfied: statsmodels in c:\\users\\rohan\\anaconda4\\lib\\site-packages (0.9.0)\n"
     ]
    }
   ],
   "source": [
    "! pip install statsmodels --user"
   ]
  },
  {
   "cell_type": "code",
   "execution_count": 37,
   "metadata": {},
   "outputs": [
    {
     "name": "stderr",
     "output_type": "stream",
     "text": [
      "C:\\Users\\rohan\\Anaconda4\\lib\\site-packages\\statsmodels\\compat\\pandas.py:49: FutureWarning: The Panel class is removed from pandas. Accessing it from the top-level namespace will also be removed in the next version\n",
      "  data_klasses = (pandas.Series, pandas.DataFrame, pandas.Panel)\n"
     ]
    }
   ],
   "source": [
    "import statsmodels.api as sm"
   ]
  },
  {
   "cell_type": "code",
   "execution_count": 41,
   "metadata": {},
   "outputs": [
    {
     "name": "stdout",
     "output_type": "stream",
     "text": [
      "Optimization terminated successfully.\n",
      "         Current function value: 0.590186\n",
      "         Iterations 6\n",
      "                           Results: Logit\n",
      "=====================================================================\n",
      "Model:                Logit            Pseudo R-squared: 0.149       \n",
      "Dependent Variable:   y                AIC:              2042389.7931\n",
      "Date:                 2020-07-08 12:23 BIC:              2042847.2524\n",
      "No. Observations:     1730230          Log-Likelihood:   -1.0212e+06 \n",
      "Df Model:             36               LL-Null:          -1.1993e+06 \n",
      "Df Residuals:         1730193          LLR p-value:      0.0000      \n",
      "Converged:            1.0000           Scale:            1.0000      \n",
      "No. Iterations:       6.0000                                         \n",
      "---------------------------------------------------------------------\n",
      "                     Coef.  Std.Err.     z     P>|z|   [0.025  0.975]\n",
      "---------------------------------------------------------------------\n",
      "STFIPS              -0.0105   0.0002  -69.8496 0.0000 -0.0108 -0.0102\n",
      "CBSA2010            -0.0000   0.0000  -74.8898 0.0000 -0.0000 -0.0000\n",
      "EDUC                -0.0586   0.0009  -68.0092 0.0000 -0.0603 -0.0569\n",
      "SERVICES             0.0007   0.0055    0.1198 0.9047 -0.0101  0.0114\n",
      "DETCRIM             -0.0615   0.0004 -139.0704 0.0000 -0.0624 -0.0607\n",
      "LOS                 -0.0072   0.0002  -44.6335 0.0000 -0.0075 -0.0069\n",
      "PSOURCE             -0.0025   0.0007   -3.5698 0.0004 -0.0038 -0.0011\n",
      "NOPRIOR             -0.0143   0.0010  -14.5806 0.0000 -0.0162 -0.0123\n",
      "ARRESTS              0.1633   0.0011  147.0648 0.0000  0.1611  0.1655\n",
      "METHUSE             -0.0138   0.0008  -17.2927 0.0000 -0.0153 -0.0122\n",
      "PSYPROB              0.0108   0.0006   17.9743 0.0000  0.0096  0.0120\n",
      "PREG                 0.0046   0.0003   13.2933 0.0000  0.0039  0.0053\n",
      "DAYWAIT              0.0666   0.0005  130.6394 0.0000  0.0656  0.0676\n",
      "SERVICES_D           0.2280   0.0056   40.9309 0.0000  0.2171  0.2389\n",
      "EMPLOY_D            -0.0052   0.0008   -6.4064 0.0000 -0.0067 -0.0036\n",
      "LIVARAG_D           -0.0011   0.0008   -1.3960 0.1627 -0.0026  0.0004\n",
      "ARRESTS_D           -0.2106   0.0008 -250.3750 0.0000 -0.2123 -0.2090\n",
      "DSMCRIT              0.0032   0.0002   14.4653 0.0000  0.0028  0.0037\n",
      "ETHNIC               0.0364   0.0009   38.5438 0.0000  0.0346  0.0383\n",
      "DETNLF              -0.0051   0.0004  -12.0988 0.0000 -0.0059 -0.0043\n",
      "DETNLF_D             0.0123   0.0005   26.0438 0.0000  0.0114  0.0133\n",
      "SUB3                 0.0355   0.0006   59.5916 0.0000  0.0344  0.0367\n",
      "SUB1_D               0.0128   0.0005   23.9286 0.0000  0.0117  0.0138\n",
      "SUB2_D              -0.0528   0.0005 -101.2309 0.0000 -0.0538 -0.0517\n",
      "ROUTE1               0.0291   0.0011   26.4334 0.0000  0.0270  0.0313\n",
      "FREQ1                0.0197   0.0008   23.2585 0.0000  0.0180  0.0213\n",
      "FREQ3               -0.0216   0.0011  -19.0747 0.0000 -0.0239 -0.0194\n",
      "FREQ1_D             -0.0357   0.0006  -57.8997 0.0000 -0.0369 -0.0345\n",
      "FREQ2_D             -0.0135   0.0004  -30.8919 0.0000 -0.0144 -0.0126\n",
      "FRSTUSE1            -0.0205   0.0008  -24.7158 0.0000 -0.0221 -0.0189\n",
      "FRSTUSE2             0.0241   0.0004   57.2633 0.0000  0.0233  0.0249\n",
      "FRSTUSE3             0.0086   0.0010    8.6690 0.0000  0.0067  0.0106\n",
      "HLTHINS             -0.0131   0.0004  -35.9549 0.0000 -0.0139 -0.0124\n",
      "FREQ_ATND_SELF_HELP  0.0429   0.0006   76.1235 0.0000  0.0418  0.0440\n",
      "OTHERFLG             0.0982   0.0111    8.8340 0.0000  0.0764  0.1200\n",
      "DIVISION             0.3982   0.0033  121.9925 0.0000  0.3918  0.4046\n",
      "REGION              -1.2308   0.0074 -166.9120 0.0000 -1.2452 -1.2163\n",
      "=====================================================================\n",
      "\n"
     ]
    }
   ],
   "source": [
    "logit_model = sm.Logit(y,X)\n",
    "result = logit_model.fit()\n",
    "print(result.summary2())"
   ]
  },
  {
   "cell_type": "markdown",
   "metadata": {},
   "source": [
    "Most of the p values are smaller than 0.5, except two of them, so we will remove those two and continue."
   ]
  },
  {
   "cell_type": "code",
   "execution_count": 42,
   "metadata": {},
   "outputs": [
    {
     "name": "stdout",
     "output_type": "stream",
     "text": [
      "Optimization terminated successfully.\n",
      "         Current function value: 0.590187\n",
      "         Iterations 6\n",
      "                           Results: Logit\n",
      "=====================================================================\n",
      "Model:                Logit            Pseudo R-squared: 0.149       \n",
      "Dependent Variable:   y                AIC:              2042387.7479\n",
      "Date:                 2020-07-08 12:28 BIC:              2042820.4796\n",
      "No. Observations:     1730230          Log-Likelihood:   -1.0212e+06 \n",
      "Df Model:             34               LL-Null:          -1.1993e+06 \n",
      "Df Residuals:         1730195          LLR p-value:      0.0000      \n",
      "Converged:            1.0000           Scale:            1.0000      \n",
      "No. Iterations:       6.0000                                         \n",
      "---------------------------------------------------------------------\n",
      "                     Coef.  Std.Err.     z     P>|z|   [0.025  0.975]\n",
      "---------------------------------------------------------------------\n",
      "STFIPS              -0.0105   0.0002  -69.8646 0.0000 -0.0108 -0.0102\n",
      "CBSA2010            -0.0000   0.0000  -74.9051 0.0000 -0.0000 -0.0000\n",
      "EDUC                -0.0586   0.0009  -68.1010 0.0000 -0.0603 -0.0570\n",
      "DETCRIM             -0.0615   0.0004 -139.1091 0.0000 -0.0624 -0.0607\n",
      "LOS                 -0.0072   0.0002  -44.8136 0.0000 -0.0076 -0.0069\n",
      "PSOURCE             -0.0025   0.0007   -3.5768 0.0003 -0.0038 -0.0011\n",
      "NOPRIOR             -0.0143   0.0010  -14.6023 0.0000 -0.0162 -0.0124\n",
      "ARRESTS              0.1633   0.0011  147.1062 0.0000  0.1611  0.1655\n",
      "METHUSE             -0.0137   0.0008  -17.2637 0.0000 -0.0153 -0.0122\n",
      "PSYPROB              0.0108   0.0006   17.9290 0.0000  0.0096  0.0119\n",
      "PREG                 0.0046   0.0003   13.3036 0.0000  0.0039  0.0053\n",
      "DAYWAIT              0.0667   0.0005  130.7337 0.0000  0.0657  0.0677\n",
      "SERVICES_D           0.2286   0.0012  188.8290 0.0000  0.2262  0.2309\n",
      "EMPLOY_D            -0.0058   0.0006   -9.1533 0.0000 -0.0071 -0.0046\n",
      "ARRESTS_D           -0.2108   0.0008 -255.7150 0.0000 -0.2125 -0.2092\n",
      "DSMCRIT              0.0032   0.0002   14.4748 0.0000  0.0028  0.0037\n",
      "ETHNIC               0.0364   0.0009   38.5556 0.0000  0.0346  0.0383\n",
      "DETNLF              -0.0051   0.0004  -12.0450 0.0000 -0.0059 -0.0042\n",
      "DETNLF_D             0.0124   0.0005   26.3614 0.0000  0.0115  0.0133\n",
      "SUB3                 0.0355   0.0006   59.5864 0.0000  0.0344  0.0367\n",
      "SUB1_D               0.0128   0.0005   23.9247 0.0000  0.0117  0.0138\n",
      "SUB2_D              -0.0528   0.0005 -101.4058 0.0000 -0.0538 -0.0518\n",
      "ROUTE1               0.0292   0.0011   26.4640 0.0000  0.0270  0.0313\n",
      "FREQ1                0.0197   0.0008   23.3481 0.0000  0.0181  0.0214\n",
      "FREQ3               -0.0216   0.0011  -19.0824 0.0000 -0.0238 -0.0194\n",
      "FREQ1_D             -0.0358   0.0006  -58.3810 0.0000 -0.0370 -0.0346\n",
      "FREQ2_D             -0.0135   0.0004  -30.9279 0.0000 -0.0144 -0.0127\n",
      "FRSTUSE1            -0.0205   0.0008  -24.7869 0.0000 -0.0222 -0.0189\n",
      "FRSTUSE2             0.0241   0.0004   57.3484 0.0000  0.0233  0.0250\n",
      "FRSTUSE3             0.0086   0.0010    8.6748 0.0000  0.0067  0.0106\n",
      "HLTHINS             -0.0132   0.0004  -36.0922 0.0000 -0.0139 -0.0125\n",
      "FREQ_ATND_SELF_HELP  0.0429   0.0006   76.1627 0.0000  0.0417  0.0440\n",
      "OTHERFLG             0.0984   0.0111    8.8437 0.0000  0.0766  0.1201\n",
      "DIVISION             0.3982   0.0033  122.0030 0.0000  0.3918  0.4046\n",
      "REGION              -1.2304   0.0074 -166.9742 0.0000 -1.2449 -1.2160\n",
      "=====================================================================\n",
      "\n"
     ]
    }
   ],
   "source": [
    "cols = ['STFIPS', 'CBSA2010', 'EDUC', 'DETCRIM', 'LOS', 'PSOURCE', 'NOPRIOR', 'ARRESTS', 'METHUSE', 'PSYPROB', 'PREG', 'DAYWAIT', 'SERVICES_D', 'EMPLOY_D', 'ARRESTS_D', 'DSMCRIT', 'ETHNIC', 'DETNLF', 'DETNLF_D', 'SUB3', 'SUB1_D', 'SUB2_D', 'ROUTE1', 'FREQ1', 'FREQ3', 'FREQ1_D', 'FREQ2_D', 'FRSTUSE1', 'FRSTUSE2', 'FRSTUSE3', 'HLTHINS', 'FREQ_ATND_SELF_HELP', 'OTHERFLG', 'DIVISION', 'REGION']\n",
    "\n",
    "X = os_data_X[cols]\n",
    "y = os_data_y['y']\n",
    "\n",
    "logit_model = sm.Logit(y,X)\n",
    "result = logit_model.fit()\n",
    "print(result.summary2())"
   ]
  },
  {
   "cell_type": "code",
   "execution_count": 43,
   "metadata": {},
   "outputs": [
    {
     "name": "stderr",
     "output_type": "stream",
     "text": [
      "C:\\Users\\rohan\\Anaconda4\\lib\\site-packages\\sklearn\\linear_model\\logistic.py:433: FutureWarning: Default solver will be changed to 'lbfgs' in 0.22. Specify a solver to silence this warning.\n"
     ]
    },
    {
     "data": {
      "text/plain": [
       "LogisticRegression(C=1.0, class_weight=None, dual=False, fit_intercept=True,\n",
       "          intercept_scaling=1, max_iter=100, multi_class='warn',\n",
       "          n_jobs=None, penalty='l2', random_state=None, solver='warn',\n",
       "          tol=0.0001, verbose=0, warm_start=False)"
      ]
     },
     "execution_count": 43,
     "metadata": {},
     "output_type": "execute_result"
    }
   ],
   "source": [
    "#Model fitting\n",
    "\n",
    "X_train, X_test, y_train, y_test = train_test_split(X, y, test_size = 0.3, random_state = 0)\n",
    "logistic_reg = LogisticRegression()\n",
    "logistic_reg.fit(X_train, y_train)\n"
   ]
  },
  {
   "cell_type": "code",
   "execution_count": 47,
   "metadata": {},
   "outputs": [
    {
     "name": "stdout",
     "output_type": "stream",
     "text": [
      "Accuracy of logistic regression: 0.6732\n"
     ]
    }
   ],
   "source": [
    "#Predicting test results and calculating accuracy\n",
    "y_pred = logistic_reg.predict(X_test)\n",
    "print('Accuracy of logistic regression: {:.4f}'.format(logistic_reg.score(X_test, y_test)))\n"
   ]
  },
  {
   "cell_type": "markdown",
   "metadata": {},
   "source": [
    "So the logistic regression model is 67.32 percent accurate. To better see how the classifier worked, I am going to make an ROC curve."
   ]
  },
  {
   "cell_type": "code",
   "execution_count": 52,
   "metadata": {},
   "outputs": [
    {
     "data": {
      "image/png": "[encoded data removed]",
      "text/plain": [
       "<Figure size 432x288 with 1 Axes>"
      ]
     },
     "metadata": {
      "needs_background": "light"
     },
     "output_type": "display_data"
    }
   ],
   "source": [
    "logit_roc_auc = roc_auc_score(y_test, logistic_reg.predict(X_test))\n",
    "fpr, tpr, thresholds = roc_curve(y_test, logistic_reg.predict_proba(X_test)[:,1])\n",
    "plt.figure()\n",
    "plt.plot(fpr, tpr, label='Logistic Regression (area = %0.2f)' % logit_roc_auc)\n",
    "plt.plot([0, 1], [0, 1],'r--')\n",
    "plt.xlim([0.0, 1.0])\n",
    "plt.ylim([0.0, 1.05])\n",
    "plt.xlabel('False Positive Rate')\n",
    "plt.ylabel('True Positive Rate')\n",
    "plt.title('Receiver operating characteristic')\n",
    "plt.legend(loc=\"lower right\")\n",
    "plt.savefig('Log_ROC')\n",
    "plt.show()"
   ]
  },
  {
   "cell_type": "markdown",
   "metadata": {},
   "source": [
    "I can't help but think that this could be more accurate. ;)"
   ]
  },
  {
   "cell_type": "markdown",
   "metadata": {},
   "source": [
    "I believe a better approach would be using a more advanced classifier. For this second simulation, I will be using a Random Tree Classifier."
   ]
  },
  {
   "cell_type": "code",
   "execution_count": 53,
   "metadata": {},
   "outputs": [],
   "source": [
    "from sklearn.ensemble import RandomForestClassifier"
   ]
  },
  {
   "cell_type": "code",
   "execution_count": 54,
   "metadata": {},
   "outputs": [
    {
     "name": "stdout",
     "output_type": "stream",
     "text": [
      "Accuracy of Random Trees: 0.8941\n"
     ]
    }
   ],
   "source": [
    "new_clf = RandomForestClassifier(n_estimators = 200) #200 trees\n",
    "\n",
    "new_clf.fit(X_train, y_train)\n",
    "\n",
    "new_y_pred = new_clf.predict(X_test)\n",
    "\n",
    "print(\"Accuracy of Random Trees: {:.4f}\".format(new_clf.score(X_test, y_test)))"
   ]
  },
  {
   "cell_type": "markdown",
   "metadata": {},
   "source": [
    "Wow! This seems like the better classifier to use. While it is harder to make \"equations\" for the researchers from this, it has a better predictive factor. BTW the trees part in the output should say forest."
   ]
  },
  {
   "cell_type": "markdown",
   "metadata": {},
   "source": [
    "Now to put the Random Forest Classifier in a pickle file for further use."
   ]
  },
  {
   "cell_type": "code",
   "execution_count": 55,
   "metadata": {},
   "outputs": [],
   "source": [
    "import pickle"
   ]
  },
  {
   "cell_type": "code",
   "execution_count": 56,
   "metadata": {},
   "outputs": [],
   "source": [
    "with open('rehab_stopper_randomforest.pkl', 'wb') as file:\n",
    "    pickle.dump(new_clf, file)"
   ]
  },
  {
   "cell_type": "code",
   "execution_count": null,
   "metadata": {},
   "outputs": [],
   "source": []
  }
 ],
 "metadata": {
  "kernelspec": {
   "display_name": "Python 3",
   "language": "python",
   "name": "python3"
  },
  "language_info": {
   "codemirror_mode": {
    "name": "ipython",
    "version": 3
   },
   "file_extension": ".py",
   "mimetype": "text/x-python",
   "name": "python",
   "nbconvert_exporter": "python",
   "pygments_lexer": "ipython3",
   "version": "3.7.1"
  }
 },
 "nbformat": 4,
 "nbformat_minor": 2
}
